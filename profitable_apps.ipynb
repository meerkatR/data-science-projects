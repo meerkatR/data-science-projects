{
 "cells": [
  {
   "cell_type": "markdown",
   "metadata": {},
   "source": [
    "# Profitable Apps\n",
    "\n",
    "What type of apps attract more users\n",
    "\n",
    "The project is to analyze data to help the developers to understand what type of apps are likely to attract more users.\n",
    "\n",
    "# Import Data\n",
    "\n"
   ]
  },
  {
   "cell_type": "code",
   "execution_count": 1,
   "metadata": {},
   "outputs": [],
   "source": [
    "def read_data(path):\n",
    "    open_file = open(path)\n",
    "    from csv import reader\n",
    "    read_file = reader(open_file)\n",
    "    data_list = list(read_file)\n",
    "    #print(data_list[:2])\n",
    "    return data_list\n",
    "\n",
    "def explore_data(dataset, start, end, rows_and_columns=False):\n",
    "    dataset_slice = dataset[start:end]    \n",
    "    for row in dataset_slice:\n",
    "        print(row)\n",
    "        print('\\n') # adds a new (empty) line after each row\n",
    "\n",
    "    if rows_and_columns:\n",
    "        print('Number of rows:', len(dataset))\n",
    "        print('Number of columns:', len(dataset[0]))"
   ]
  },
  {
   "cell_type": "code",
   "execution_count": 2,
   "metadata": {},
   "outputs": [
    {
     "name": "stdout",
     "output_type": "stream",
     "text": [
      "['id', 'track_name', 'size_bytes', 'currency', 'price', 'rating_count_tot', 'rating_count_ver', 'user_rating', 'user_rating_ver', 'ver', 'cont_rating', 'prime_genre', 'sup_devices.num', 'ipadSc_urls.num', 'lang.num', 'vpp_lic']\n",
      "\n",
      "\n",
      "['284882215', 'Facebook', '389879808', 'USD', '0.0', '2974676', '212', '3.5', '3.5', '95.0', '4+', 'Social Networking', '37', '1', '29', '1']\n",
      "\n",
      "\n",
      "['389801252', 'Instagram', '113954816', 'USD', '0.0', '2161558', '1289', '4.5', '4.0', '10.23', '12+', 'Photo & Video', '37', '0', '29', '1']\n",
      "\n",
      "\n",
      "['529479190', 'Clash of Clans', '116476928', 'USD', '0.0', '2130805', '579', '4.5', '4.5', '9.24.12', '9+', 'Games', '38', '5', '18', '1']\n",
      "\n",
      "\n",
      "['420009108', 'Temple Run', '65921024', 'USD', '0.0', '1724546', '3842', '4.5', '4.0', '1.6.2', '9+', 'Games', '40', '5', '1', '1']\n",
      "\n",
      "\n",
      "['284035177', 'Pandora - Music & Radio', '130242560', 'USD', '0.0', '1126879', '3594', '4.0', '4.5', '8.4.1', '12+', 'Music', '37', '4', '1', '1']\n",
      "\n",
      "\n",
      "Number of rows: 7198\n",
      "Number of columns: 16\n"
     ]
    }
   ],
   "source": [
    "apple = read_data(\"AppleStore.csv\")\n",
    "google = read_data(\"googleplaystore.csv\")\n",
    "explore_data(apple, 0, 6, True)\n"
   ]
  },
  {
   "cell_type": "code",
   "execution_count": 3,
   "metadata": {},
   "outputs": [
    {
     "name": "stdout",
     "output_type": "stream",
     "text": [
      "['App', 'Category', 'Rating', 'Reviews', 'Size', 'Installs', 'Type', 'Price', 'Content Rating', 'Genres', 'Last Updated', 'Current Ver', 'Android Ver']\n",
      "\n",
      "\n",
      "['Photo Editor & Candy Camera & Grid & ScrapBook', 'ART_AND_DESIGN', '4.1', '159', '19M', '10,000+', 'Free', '0', 'Everyone', 'Art & Design', 'January 7, 2018', '1.0.0', '4.0.3 and up']\n",
      "\n",
      "\n",
      "['Coloring book moana', 'ART_AND_DESIGN', '3.9', '967', '14M', '500,000+', 'Free', '0', 'Everyone', 'Art & Design;Pretend Play', 'January 15, 2018', '2.0.0', '4.0.3 and up']\n",
      "\n",
      "\n",
      "['U Launcher Lite – FREE Live Cool Themes, Hide Apps', 'ART_AND_DESIGN', '4.7', '87510', '8.7M', '5,000,000+', 'Free', '0', 'Everyone', 'Art & Design', 'August 1, 2018', '1.2.4', '4.0.3 and up']\n",
      "\n",
      "\n",
      "['Sketch - Draw & Paint', 'ART_AND_DESIGN', '4.5', '215644', '25M', '50,000,000+', 'Free', '0', 'Teen', 'Art & Design', 'June 8, 2018', 'Varies with device', '4.2 and up']\n",
      "\n",
      "\n",
      "['Pixel Draw - Number Art Coloring Book', 'ART_AND_DESIGN', '4.3', '967', '2.8M', '100,000+', 'Free', '0', 'Everyone', 'Art & Design;Creativity', 'June 20, 2018', '1.1', '4.4 and up']\n",
      "\n",
      "\n",
      "Number of rows: 10842\n",
      "Number of columns: 13\n"
     ]
    }
   ],
   "source": [
    "explore_data(google, 0, 6, True)"
   ]
  },
  {
   "cell_type": "code",
   "execution_count": 4,
   "metadata": {},
   "outputs": [
    {
     "name": "stdout",
     "output_type": "stream",
     "text": [
      "['App', 'Category', 'Rating', 'Reviews', 'Size', 'Installs', 'Type', 'Price', 'Content Rating', 'Genres', 'Last Updated', 'Current Ver', 'Android Ver']\n",
      "['id', 'track_name', 'size_bytes', 'currency', 'price', 'rating_count_tot', 'rating_count_ver', 'user_rating', 'user_rating_ver', 'ver', 'cont_rating', 'prime_genre', 'sup_devices.num', 'ipadSc_urls.num', 'lang.num', 'vpp_lic']\n"
     ]
    }
   ],
   "source": [
    "print(google[0])\n",
    "print(apple[0])"
   ]
  },
  {
   "cell_type": "markdown",
   "metadata": {},
   "source": [
    "Data Cleaning\n",
    "remove incorrect data: missing Category in google play data"
   ]
  },
  {
   "cell_type": "markdown",
   "metadata": {},
   "source": [
    "# Remove inaccurate data"
   ]
  },
  {
   "cell_type": "code",
   "execution_count": 5,
   "metadata": {},
   "outputs": [
    {
     "name": "stdout",
     "output_type": "stream",
     "text": [
      "[['Xposed Wi-Fi-Pwd', 'PERSONALIZATION', '3.5', '1042', '404k', '100,000+', 'Free', '0', 'Everyone', 'Personalization', 'August 5, 2014', '3.0.0', '4.0.3 and up'], ['Life Made WI-Fi Touchscreen Photo Frame', '1.9', '19', '3.0M', '1,000+', 'Free', '0', 'Everyone', '', 'February 11, 2018', '1.0.19', '4.0 and up']]\n"
     ]
    }
   ],
   "source": [
    "print(google[10472:10474])\n",
    "del google[10473]"
   ]
  },
  {
   "cell_type": "code",
   "execution_count": 6,
   "metadata": {},
   "outputs": [
    {
     "name": "stdout",
     "output_type": "stream",
     "text": [
      "[['Xposed Wi-Fi-Pwd', 'PERSONALIZATION', '3.5', '1042', '404k', '100,000+', 'Free', '0', 'Everyone', 'Personalization', 'August 5, 2014', '3.0.0', '4.0.3 and up'], ['osmino Wi-Fi: free WiFi', 'TOOLS', '4.2', '134203', '4.1M', '10,000,000+', 'Free', '0', 'Everyone', 'Tools', 'August 7, 2018', '6.06.14', '4.4 and up']]\n"
     ]
    }
   ],
   "source": [
    "print(google[10472:10474])"
   ]
  },
  {
   "cell_type": "markdown",
   "metadata": {},
   "source": [
    "# Remove duplicate app entries\n",
    "The Google Play data set has duplicate entries.  Below is an example."
   ]
  },
  {
   "cell_type": "code",
   "execution_count": 7,
   "metadata": {},
   "outputs": [
    {
     "name": "stdout",
     "output_type": "stream",
     "text": [
      "['Instagram', 'SOCIAL', '4.5', '66577313', 'Varies with device', '1,000,000,000+', 'Free', '0', 'Teen', 'Social', 'July 31, 2018', 'Varies with device', 'Varies with device']\n",
      "['Instagram', 'SOCIAL', '4.5', '66577446', 'Varies with device', '1,000,000,000+', 'Free', '0', 'Teen', 'Social', 'July 31, 2018', 'Varies with device', 'Varies with device']\n",
      "['Instagram', 'SOCIAL', '4.5', '66577313', 'Varies with device', '1,000,000,000+', 'Free', '0', 'Teen', 'Social', 'July 31, 2018', 'Varies with device', 'Varies with device']\n",
      "['Instagram', 'SOCIAL', '4.5', '66509917', 'Varies with device', '1,000,000,000+', 'Free', '0', 'Teen', 'Social', 'July 31, 2018', 'Varies with device', 'Varies with device']\n"
     ]
    }
   ],
   "source": [
    "for app in google:\n",
    "    name = app[0]\n",
    "    if name == \"Instagram\":\n",
    "        print(app)"
   ]
  },
  {
   "cell_type": "code",
   "execution_count": 8,
   "metadata": {},
   "outputs": [
    {
     "name": "stdout",
     "output_type": "stream",
     "text": [
      "Number of unique apps: 9659\n",
      "Number of duplicated apps: 1181\n"
     ]
    }
   ],
   "source": [
    "unique_app = []\n",
    "duplicate_app = []\n",
    "for app in google[1:]:\n",
    "    name = app[0]\n",
    "    if name in unique_app:\n",
    "        duplicate_app.append(name)\n",
    "    else:\n",
    "        unique_app.append(name)\n",
    "print('Number of unique apps:', len(unique_app))\n",
    "print('Number of duplicated apps:', len(duplicate_app))"
   ]
  },
  {
   "cell_type": "markdown",
   "metadata": {},
   "source": [
    "The duplicated rows won't be removed randomly.  Rather, the row with the highest  number of reviews will be kept because it's probably refelecting the most recent data.\n",
    "- First we will find maximum number of reviews for each app\n",
    "- Then we will keep the duplicate rows which has the highest review"
   ]
  },
  {
   "cell_type": "code",
   "execution_count": 9,
   "metadata": {},
   "outputs": [
    {
     "name": "stdout",
     "output_type": "stream",
     "text": [
      "9659\n",
      "66577446.0\n"
     ]
    }
   ],
   "source": [
    "reviews_max = {}\n",
    "for app in google[1:]:\n",
    "    name = app[0]\n",
    "    n_reviews = float(app[3])\n",
    "    if name in reviews_max and n_reviews > reviews_max[name]:\n",
    "        reviews_max[name] = n_reviews\n",
    "    elif name not in reviews_max:\n",
    "        reviews_max[name] = n_reviews\n",
    "print(len(reviews_max))\n",
    "print(reviews_max[\"Instagram\"])\n",
    "        "
   ]
  },
  {
   "cell_type": "code",
   "execution_count": 10,
   "metadata": {},
   "outputs": [
    {
     "name": "stdout",
     "output_type": "stream",
     "text": [
      "9659\n",
      "['Instagram', 'SOCIAL', '4.5', '66577446', 'Varies with device', '1,000,000,000+', 'Free', '0', 'Teen', 'Social', 'July 31, 2018', 'Varies with device', 'Varies with device']\n"
     ]
    }
   ],
   "source": [
    "android_clean = []\n",
    "already_added = []\n",
    "for app in google[1:]:\n",
    "    name = app[0]\n",
    "    n_reviews = float(app[3])\n",
    "    if n_reviews == reviews_max[name] and name not in already_added:\n",
    "        android_clean.append(app)\n",
    "        already_added.append(name)\n",
    "print(len(android_clean))\n",
    "for app in android_clean:\n",
    "    name = app[0]\n",
    "    if name == \"Instagram\":\n",
    "        print(app)"
   ]
  },
  {
   "cell_type": "markdown",
   "metadata": {},
   "source": [
    "# Remove non-English apps"
   ]
  },
  {
   "cell_type": "code",
   "execution_count": 11,
   "metadata": {},
   "outputs": [
    {
     "name": "stdout",
     "output_type": "stream",
     "text": [
      "True\n",
      "False\n",
      "False\n",
      "False\n"
     ]
    }
   ],
   "source": [
    "def eng_char(string):\n",
    "    for char in string:\n",
    "        if ord(char) > 127:\n",
    "            return False\n",
    "    return True\n",
    "      \n",
    "print(eng_char('Instagram'))\n",
    "print(eng_char('爱奇艺PPS -《欢乐颂2》电视剧热播'))\n",
    "print(eng_char('Docs To Go™ Free Office Suite'))\n",
    "print(eng_char('Instachat 😜'))"
   ]
  },
  {
   "cell_type": "code",
   "execution_count": 12,
   "metadata": {},
   "outputs": [
    {
     "name": "stdout",
     "output_type": "stream",
     "text": [
      "True\n",
      "False\n",
      "True\n",
      "True\n"
     ]
    }
   ],
   "source": [
    "def eng_char(string):\n",
    "    n_non_eng = 0\n",
    "    for char in string:\n",
    "        if ord(char) > 127:\n",
    "            n_non_eng += 1\n",
    "            \n",
    "    if n_non_eng > 3:\n",
    "        return False\n",
    "    elif 0 <= n_non_eng <=3 :\n",
    "        return True\n",
    "    \n",
    "print(eng_char('Instagram'))\n",
    "print(eng_char('爱奇艺PPS -《欢乐颂2》电视剧热播'))\n",
    "print(eng_char('Docs To Go™ Free Office Suite'))\n",
    "print(eng_char('Instachat 😜'))"
   ]
  },
  {
   "cell_type": "code",
   "execution_count": 13,
   "metadata": {},
   "outputs": [
    {
     "name": "stdout",
     "output_type": "stream",
     "text": [
      "Number of unique English Andriod apps 9614\n",
      "Number of unique Enlgish iOS apps 7198\n"
     ]
    }
   ],
   "source": [
    "def rmv_non_eng(old_list):\n",
    "    eng_list = []\n",
    "    for app in old_list:\n",
    "        name = app[0]\n",
    "        if eng_char(name):\n",
    "            eng_list.append(app)\n",
    "    return eng_list\n",
    "\n",
    "android_eng = rmv_non_eng(android_clean)\n",
    "ios_eng = rmv_non_eng(apple)\n",
    "\n",
    "print('Number of unique English Andriod apps', len(android_eng))\n",
    "print('Number of unique Enlgish iOS apps', len(ios_eng))"
   ]
  },
  {
   "cell_type": "markdown",
   "metadata": {},
   "source": [
    "# Isolate free apps"
   ]
  },
  {
   "cell_type": "code",
   "execution_count": 14,
   "metadata": {},
   "outputs": [
    {
     "name": "stdout",
     "output_type": "stream",
     "text": [
      "Number of unique free English Andriod apps 8864\n",
      "Number of unique free Enlgish iOS apps 4056\n"
     ]
    }
   ],
   "source": [
    "# index of price column\n",
    "def find_free_apps(old_list, index):\n",
    "    free_list = []\n",
    "    for app in old_list:\n",
    "        price = app[index]\n",
    "        if price in ['0.0', '0']:\n",
    "            free_list.append(app)\n",
    "    return(free_list)\n",
    "\n",
    "android_free = find_free_apps(android_eng, 7)\n",
    "ios_free = find_free_apps(ios_eng, 4)\n",
    "\n",
    "print('Number of unique free English Andriod apps', len(android_free))\n",
    "print('Number of unique free Enlgish iOS apps', len(ios_free))"
   ]
  },
  {
   "cell_type": "markdown",
   "metadata": {},
   "source": [
    "# Validation strategy for an app idea\n",
    "We want to find an app profile that fits both the App Store and Google Play because our goal is to develop a free app that attract more users to gain revenue using commercials.\n",
    "\n",
    "To minimize risks and overhead, our validation strategy for an app idea is comprised of three steps:\n",
    "\n",
    "1. Build a minimal Android version of the app, and add it to Google Play.\n",
    "2. If the app has a good response from users, we develop it further.\n",
    "3. If the app is profitable after six months, we build an iOS version of the app and add it to the App Store."
   ]
  },
  {
   "cell_type": "code",
   "execution_count": 19,
   "metadata": {
    "collapsed": true
   },
   "outputs": [],
   "source": [
    "def freq_table(dataset, index):\n",
    "    table = {}\n",
    "    for row in dataset[1:]:\n",
    "        key = row[index]\n",
    "        if key in table:\n",
    "            table[key] += 1\n",
    "        else:\n",
    "            table[key] = 1\n",
    "    for key in table:\n",
    "        table[key] /= len(dataset[1:]) \n",
    "    return table\n",
    "\n",
    "\n",
    "    "
   ]
  },
  {
   "cell_type": "code",
   "execution_count": 21,
   "metadata": {},
   "outputs": [],
   "source": [
    "def display_table(dataset, index):\n",
    "    table = freq_table(dataset, index)\n",
    "    table_display = []\n",
    "    for key in table:\n",
    "        key_val_as_tuple = (table[key], key)\n",
    "        table_display.append(key_val_as_tuple)\n",
    "\n",
    "    table_sorted = sorted(table_display, reverse = True)\n",
    "    for entry in table_sorted:\n",
    "        print(entry[1], ':', entry[0])"
   ]
  },
  {
   "cell_type": "code",
   "execution_count": 24,
   "metadata": {},
   "outputs": [
    {
     "name": "stdout",
     "output_type": "stream",
     "text": [
      "Games : 0.556596794081381\n",
      "Entertainment : 0.08236744759556104\n",
      "Photo & Video : 0.04118372379778052\n",
      "Social Networking : 0.03501849568434032\n",
      "Education : 0.03255240443896424\n",
      "Shopping : 0.029839704069050555\n",
      "Utilities : 0.02688039457459926\n",
      "Lifestyle : 0.023181257706535143\n",
      "Finance : 0.020715166461159062\n",
      "Sports : 0.019482120838471024\n",
      "Health & Fitness : 0.0187422934648582\n",
      "Music : 0.016522811344019728\n",
      "Book : 0.01627620221948212\n",
      "Productivity : 0.015289765721331689\n",
      "News : 0.014303329223181258\n",
      "Travel : 0.013810110974106041\n",
      "Food & Drink : 0.010604192355117139\n",
      "Weather : 0.0076448828606658446\n",
      "Reference : 0.004932182490752158\n",
      "Navigation : 0.004932182490752158\n",
      "Business : 0.004932182490752158\n",
      "Catalogs : 0.0022194821208384712\n",
      "Medical : 0.001972872996300863\n"
     ]
    }
   ],
   "source": [
    "# frequency of iOS app Prime Genre\n",
    "display_table(ios_free, 11)"
   ]
  },
  {
   "cell_type": "markdown",
   "metadata": {},
   "source": [
    "For iOS apps, Games is the most common genere. Runner-up is entertainment.\n",
    "Game apps constitute more than half of all free Enlgish apps.  \n",
    "Most of the apps are designed for entertainment (games, photo and video, social networking, sports, music) rather than for practial purpose.\n",
    "This frequency table should not be used alone to recommend an app profile for the App Store market.  In general, if there's a large number of apps for a particular genre, that does imply that apps of that genre generally have a large number of users."
   ]
  },
  {
   "cell_type": "code",
   "execution_count": 25,
   "metadata": {},
   "outputs": [
    {
     "name": "stdout",
     "output_type": "stream",
     "text": [
      "FAMILY : 0.18910075595170936\n",
      "GAME : 0.09725826469592688\n",
      "TOOLS : 0.08462146000225657\n",
      "BUSINESS : 0.04592124562789123\n",
      "LIFESTYLE : 0.03903870021437437\n",
      "PRODUCTIVITY : 0.038925871601038026\n",
      "FINANCE : 0.037007785174320205\n",
      "MEDICAL : 0.03531535597427508\n",
      "SPORTS : 0.03396141261423897\n",
      "PERSONALIZATION : 0.03317161232088458\n",
      "COMMUNICATION : 0.03238181202753018\n",
      "HEALTH_AND_FITNESS : 0.030802211440821393\n",
      "PHOTOGRAPHY : 0.029448268080785288\n",
      "NEWS_AND_MAGAZINES : 0.02798149610741284\n",
      "SOCIAL : 0.026627552747376736\n",
      "TRAVEL_AND_LOCAL : 0.023355522960622814\n",
      "SHOPPING : 0.02245289405393208\n",
      "BOOKS_AND_REFERENCE : 0.021437436533904997\n",
      "DATING : 0.018616721200496445\n",
      "VIDEO_PLAYERS : 0.017939749520478394\n",
      "MAPS_AND_NAVIGATION : 0.01399074805370642\n",
      "FOOD_AND_DRINK : 0.01241114746699763\n",
      "EDUCATION : 0.011621347173643236\n",
      "ENTERTAINMENT : 0.009590432133589078\n",
      "LIBRARIES_AND_DEMO : 0.009364774906916394\n",
      "AUTO_AND_VEHICLES : 0.009251946293580051\n",
      "HOUSE_AND_HOME : 0.008236488773552974\n",
      "WEATHER : 0.008010831546880289\n",
      "EVENTS : 0.007108202640189552\n",
      "PARENTING : 0.0065440595735078416\n",
      "ART_AND_DESIGN : 0.006318402346835158\n",
      "COMICS : 0.006205573733498815\n",
      "BEAUTY : 0.0059799165068261315\n"
     ]
    }
   ],
   "source": [
    "# frequency of Android app Category\n",
    "display_table(android_free, 1)"
   ]
  },
  {
   "cell_type": "code",
   "execution_count": 23,
   "metadata": {},
   "outputs": [
    {
     "name": "stdout",
     "output_type": "stream",
     "text": [
      "Tools : 0.08450863138892023\n",
      "Entertainment : 0.06070179397495205\n",
      "Education : 0.053480762721426156\n",
      "Business : 0.04592124562789123\n",
      "Productivity : 0.038925871601038026\n",
      "Lifestyle : 0.038925871601038026\n",
      "Finance : 0.037007785174320205\n",
      "Medical : 0.03531535597427508\n",
      "Sports : 0.03463838429425702\n",
      "Personalization : 0.03317161232088458\n",
      "Communication : 0.03238181202753018\n",
      "Action : 0.031027868667494077\n",
      "Health & Fitness : 0.030802211440821393\n",
      "Photography : 0.029448268080785288\n",
      "News & Magazines : 0.02798149610741284\n",
      "Social : 0.026627552747376736\n",
      "Travel & Local : 0.02324269434728647\n",
      "Shopping : 0.02245289405393208\n",
      "Books & Reference : 0.021437436533904997\n",
      "Simulation : 0.02042197901387792\n",
      "Dating : 0.018616721200496445\n",
      "Arcade : 0.018503892587160103\n",
      "Video Players & Editors : 0.01771409229380571\n",
      "Casual : 0.017601263680469367\n",
      "Maps & Navigation : 0.01399074805370642\n",
      "Food & Drink : 0.01241114746699763\n",
      "Puzzle : 0.01128286133363421\n",
      "Racing : 0.009928917973598104\n",
      "Role Playing : 0.009364774906916394\n",
      "Libraries & Demo : 0.009364774906916394\n",
      "Auto & Vehicles : 0.009251946293580051\n",
      "Strategy : 0.009139117680243709\n",
      "House & Home : 0.008236488773552974\n",
      "Weather : 0.008010831546880289\n",
      "Events : 0.007108202640189552\n",
      "Adventure : 0.006769716800180525\n",
      "Comics : 0.006092745120162473\n",
      "Beauty : 0.0059799165068261315\n",
      "Art & Design : 0.005867087893489789\n",
      "Parenting : 0.004964458986799052\n",
      "Card : 0.004513144533453684\n",
      "Casino : 0.0042874873067809995\n",
      "Trivia : 0.004174658693444658\n",
      "Educational;Education : 0.003949001466771973\n",
      "Board : 0.0038361728534356313\n",
      "Educational : 0.0037233442400992894\n",
      "Education;Education : 0.0033848584000902627\n",
      "Word : 0.0025950581067358683\n",
      "Casual;Pretend Play : 0.002369400880063184\n",
      "Music : 0.002030915040054158\n",
      "Racing;Action & Adventure : 0.0016924292000451314\n",
      "Puzzle;Brain Games : 0.0016924292000451314\n",
      "Entertainment;Music & Video : 0.0016924292000451314\n",
      "Casual;Brain Games : 0.0013539433600361051\n",
      "Casual;Action & Adventure : 0.0013539433600361051\n",
      "Arcade;Action & Adventure : 0.001241114746699763\n",
      "Action;Action & Adventure : 0.001015457520027079\n",
      "Educational;Pretend Play : 0.0009026289066907368\n",
      "Simulation;Action & Adventure : 0.0007898002933543947\n",
      "Parenting;Education : 0.0007898002933543947\n",
      "Entertainment;Brain Games : 0.0007898002933543947\n",
      "Board;Brain Games : 0.0007898002933543947\n",
      "Parenting;Music & Video : 0.0006769716800180526\n",
      "Educational;Brain Games : 0.0006769716800180526\n",
      "Casual;Creativity : 0.0006769716800180526\n",
      "Art & Design;Creativity : 0.0006769716800180526\n",
      "Education;Pretend Play : 0.0005641430666817105\n",
      "Role Playing;Pretend Play : 0.0004513144533453684\n",
      "Education;Creativity : 0.0004513144533453684\n",
      "Role Playing;Action & Adventure : 0.0003384858400090263\n",
      "Puzzle;Action & Adventure : 0.0003384858400090263\n",
      "Entertainment;Creativity : 0.0003384858400090263\n",
      "Entertainment;Action & Adventure : 0.0003384858400090263\n",
      "Educational;Creativity : 0.0003384858400090263\n",
      "Educational;Action & Adventure : 0.0003384858400090263\n",
      "Education;Music & Video : 0.0003384858400090263\n",
      "Education;Brain Games : 0.0003384858400090263\n",
      "Education;Action & Adventure : 0.0003384858400090263\n",
      "Adventure;Action & Adventure : 0.0003384858400090263\n",
      "Video Players & Editors;Music & Video : 0.0002256572266726842\n",
      "Sports;Action & Adventure : 0.0002256572266726842\n",
      "Simulation;Pretend Play : 0.0002256572266726842\n",
      "Puzzle;Creativity : 0.0002256572266726842\n",
      "Music;Music & Video : 0.0002256572266726842\n",
      "Entertainment;Pretend Play : 0.0002256572266726842\n",
      "Casual;Education : 0.0002256572266726842\n",
      "Board;Action & Adventure : 0.0002256572266726842\n",
      "Video Players & Editors;Creativity : 0.0001128286133363421\n",
      "Trivia;Education : 0.0001128286133363421\n",
      "Travel & Local;Action & Adventure : 0.0001128286133363421\n",
      "Tools;Education : 0.0001128286133363421\n",
      "Strategy;Education : 0.0001128286133363421\n",
      "Strategy;Creativity : 0.0001128286133363421\n",
      "Strategy;Action & Adventure : 0.0001128286133363421\n",
      "Simulation;Education : 0.0001128286133363421\n",
      "Role Playing;Brain Games : 0.0001128286133363421\n",
      "Racing;Pretend Play : 0.0001128286133363421\n",
      "Puzzle;Education : 0.0001128286133363421\n",
      "Parenting;Brain Games : 0.0001128286133363421\n",
      "Music & Audio;Music & Video : 0.0001128286133363421\n",
      "Lifestyle;Pretend Play : 0.0001128286133363421\n",
      "Lifestyle;Education : 0.0001128286133363421\n",
      "Health & Fitness;Education : 0.0001128286133363421\n",
      "Health & Fitness;Action & Adventure : 0.0001128286133363421\n",
      "Entertainment;Education : 0.0001128286133363421\n",
      "Communication;Creativity : 0.0001128286133363421\n",
      "Comics;Creativity : 0.0001128286133363421\n",
      "Casual;Music & Video : 0.0001128286133363421\n",
      "Card;Action & Adventure : 0.0001128286133363421\n",
      "Books & Reference;Education : 0.0001128286133363421\n",
      "Art & Design;Pretend Play : 0.0001128286133363421\n",
      "Art & Design;Action & Adventure : 0.0001128286133363421\n",
      "Arcade;Pretend Play : 0.0001128286133363421\n",
      "Adventure;Education : 0.0001128286133363421\n"
     ]
    }
   ],
   "source": [
    "# frequency of Android app Genre\n",
    "display_table(android_free, 9)"
   ]
  },
  {
   "cell_type": "markdown",
   "metadata": {},
   "source": [
    "The most common genres in Android apps is Family.\n",
    "Most of the apps are designed for practial purpose (Tools, education, business, productivity, lifestyle, finance) instead of entertainment.  This is opposite to iOS apps.\n",
    "I cannot recommend an app profile based what's found so far because the frequency table reveal the most frequen app generes, NOT what genres have the most users."
   ]
  },
  {
   "cell_type": "code",
   "execution_count": 32,
   "metadata": {},
   "outputs": [
    {
     "name": "stdout",
     "output_type": "stream",
     "text": [
      "Food & Drink :  20179.093023255813\n",
      "Health & Fitness :  19952.315789473683\n",
      "Weather :  47220.93548387097\n",
      "Business :  6367.8\n",
      "Social Networking :  32503.563380281692\n",
      "Photo & Video :  27249.892215568863\n",
      "Book :  8498.333333333334\n",
      "Entertainment :  10822.961077844311\n",
      "Sports :  20128.974683544304\n",
      "Shopping :  18746.677685950413\n",
      "News :  15892.724137931034\n",
      "Productivity :  19053.887096774193\n",
      "Navigation :  25972.05\n",
      "Games :  18924.68896765618\n",
      "Education :  6266.333333333333\n",
      "Travel :  20216.01785714286\n",
      "Finance :  13522.261904761905\n",
      "Music :  56482.02985074627\n",
      "Catalogs :  1779.5555555555557\n",
      "Lifestyle :  8978.308510638299\n",
      "Utilities :  14010.100917431193\n",
      "Reference :  67447.9\n",
      "Medical :  459.75\n"
     ]
    }
   ],
   "source": [
    "prime_genre_tbl = freq_table(ios_free, 11)\n",
    "for genre in prime_genre_tbl:\n",
    "    total = 0\n",
    "    len_genre = 0\n",
    "    for row in ios_free[1:]:\n",
    "        genre_app = row[11]\n",
    "        if genre_app == genre:\n",
    "            n_rate = float(row[5])\n",
    "            total += n_rate\n",
    "            len_genre += 1\n",
    "    avg = total/len_genre\n",
    "    print(genre, \": \", avg)\n"
   ]
  },
  {
   "cell_type": "code",
   "execution_count": 36,
   "metadata": {},
   "outputs": [
    {
     "name": "stdout",
     "output_type": "stream",
     "text": [
      "LIBRARIES_AND_DEMO :  638503.734939759\n",
      "DATING :  854028.8303030303\n",
      "PRODUCTIVITY :  16787331.344927534\n",
      "EDUCATION :  1833495.145631068\n",
      "BUSINESS :  1712290.1474201474\n",
      "TOOLS :  10801391.298666667\n",
      "COMMUNICATION :  38456119.167247385\n",
      "SHOPPING :  7036877.311557789\n",
      "NEWS_AND_MAGAZINES :  9549178.467741935\n",
      "MEDICAL :  120550.61980830671\n",
      "FOOD_AND_DRINK :  1924897.7363636363\n",
      "ART_AND_DESIGN :  2021626.7857142857\n",
      "SOCIAL :  23253652.127118643\n",
      "PARENTING :  542603.6206896552\n",
      "GAME :  15588015.603248259\n",
      "PERSONALIZATION :  5201482.6122448975\n",
      "LIFESTYLE :  1437816.2687861272\n",
      "BOOKS_AND_REFERENCE :  8767811.894736841\n",
      "BEAUTY :  513151.88679245283\n",
      "AUTO_AND_VEHICLES :  647317.8170731707\n",
      "TRAVEL_AND_LOCAL :  13984077.710144928\n",
      "FAMILY :  3695641.8198090694\n",
      "ENTERTAINMENT :  11640705.88235294\n",
      "HOUSE_AND_HOME :  1331540.5616438356\n",
      "VIDEO_PLAYERS :  24727872.452830188\n",
      "MAPS_AND_NAVIGATION :  4056941.7741935486\n",
      "FINANCE :  1387692.475609756\n",
      "HEALTH_AND_FITNESS :  4188821.9853479853\n",
      "SPORTS :  3638640.1428571427\n",
      "WEATHER :  5074486.197183099\n",
      "COMICS :  817657.2727272727\n",
      "EVENTS :  253542.22222222222\n",
      "PHOTOGRAPHY :  17840110.40229885\n"
     ]
    }
   ],
   "source": [
    "category_tbl = freq_table(android_free, 1)\n",
    "for category in category_tbl:\n",
    "    total = 0\n",
    "    len_category = 0\n",
    "    for row in android_free[1:]:\n",
    "        category_app = row[1]\n",
    "        if category_app == category:\n",
    "            n_installs = row[5]\n",
    "            n_installs = n_installs.replace('+', '')\n",
    "            n_installs = n_installs.replace(',', '')\n",
    "            n_installs = float(n_installs)\n",
    "            total += n_installs\n",
    "            len_category += 1\n",
    "    avg = total/len_category\n",
    "    print(category, \": \", avg)\n"
   ]
  },
  {
   "cell_type": "markdown",
   "metadata": {},
   "source": [
    "I will recommend communiacation, video_players, social, photography for Goolge Play."
   ]
  }
 ],
 "metadata": {
  "kernelspec": {
   "display_name": "Python 3",
   "language": "python",
   "name": "python3"
  },
  "language_info": {
   "codemirror_mode": {
    "name": "ipython",
    "version": 3
   },
   "file_extension": ".py",
   "mimetype": "text/x-python",
   "name": "python",
   "nbconvert_exporter": "python",
   "pygments_lexer": "ipython3",
   "version": "3.7.1"
  }
 },
 "nbformat": 4,
 "nbformat_minor": 2
}
